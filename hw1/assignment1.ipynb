{
 "cells": [
  {
   "cell_type": "markdown",
   "metadata": {},
   "source": [
    "### Assignment 1 Text Classification\n",
    "---"
   ]
  },
  {
   "cell_type": "code",
   "execution_count": 1,
   "metadata": {},
   "outputs": [
    {
     "name": "stdout",
     "output_type": "stream",
     "text": [
      "--2020-02-02 12:09:04--  http://phontron.com/data/topicclass-v1.tar.gz\n",
      "Resolving phontron.com (phontron.com)... 208.113.196.149\n",
      "Connecting to phontron.com (phontron.com)|208.113.196.149|:80... connected.\n",
      "HTTP request sent, awaiting response... 200 OK\n",
      "Length: 15665160 (15M) [application/gzip]\n",
      "Saving to: ‘topicclass-v1.tar.gz’\n",
      "\n",
      "topicclass-v1.tar.g 100%[===================>]  14.94M  2.20MB/s    in 9.0s    \n",
      "\n",
      "2020-02-02 12:09:15 (1.65 MB/s) - ‘topicclass-v1.tar.gz’ saved [15665160/15665160]\n",
      "\n"
     ]
    }
   ],
   "source": [
    "!wget http://phontron.com/data/topicclass-v1.tar.gz"
   ]
  },
  {
   "cell_type": "code",
   "execution_count": 2,
   "metadata": {},
   "outputs": [
    {
     "name": "stdout",
     "output_type": "stream",
     "text": [
      "x topicclass/\n",
      "x topicclass/topicclass_valid.txt\n",
      "x topicclass/topicclass_test.txt\n",
      "x topicclass/topicclass_train.txt\n"
     ]
    }
   ],
   "source": [
    "!tar -xvzf topicclass-v1.tar.gz topicclass"
   ]
  },
  {
   "cell_type": "code",
   "execution_count": 5,
   "metadata": {},
   "outputs": [],
   "source": [
    "from typing import Iterator, List, Dict\n",
    "import torch\n",
    "import torch.optim as optim\n",
    "import numpy as np\n",
    "from allennlp.data import Instance\n",
    "from allennlp.data.fields import TextField, SequenceLabelField, LabelField\n",
    "from allennlp.data.dataset_readers import DatasetReader\n",
    "from allennlp.common.file_utils import cached_path\n",
    "from allennlp.data.token_indexers import TokenIndexer, SingleIdTokenIndexer\n",
    "from allennlp.data.tokenizers import Token\n",
    "from allennlp.data.vocabulary import Vocabulary\n",
    "from allennlp.models import Model\n",
    "from allennlp.modules.text_field_embedders import TextFieldEmbedder, BasicTextFieldEmbedder\n",
    "from allennlp.modules.token_embedders import Embedding\n",
    "from allennlp.modules.seq2seq_encoders import Seq2SeqEncoder, PytorchSeq2SeqWrapper\n",
    "from allennlp.nn.util import get_text_field_mask, sequence_cross_entropy_with_logits\n",
    "from allennlp.training.metrics import CategoricalAccuracy\n",
    "from allennlp.data.iterators import BucketIterator\n",
    "from allennlp.training.trainer import Trainer\n",
    "from allennlp.predictors import SentenceTaggerPredictor"
   ]
  },
  {
   "cell_type": "code",
   "execution_count": 6,
   "metadata": {},
   "outputs": [],
   "source": [
    "class PosDatasetReader(DatasetReader):\n",
    "    \n",
    "    def __init__(self, token_indexers=None):\n",
    "        super().__init__(lazy=False)\n",
    "        self.token_indexers = token_indexers or {\"tokens\": SingleIdTokenIndexer()}\n",
    "        \n",
    "    def text_to_instance(self, tokens, label):\n",
    "        sentence_field = TextField(tokens, self.token_indexers)\n",
    "        fields = {\"sentence\": sentence_field}\n",
    "        \n",
    "        if label:\n",
    "            label_field = LabelField(label=label)\n",
    "            fields[\"label\"] = label_field\n",
    "            \n",
    "        return Instance(fields)\n",
    "    \n",
    "    def _read(self, file_path):\n",
    "        with open(file_path) as f:\n",
    "            for line in f:\n",
    "                label, sent = line.strip().split(\"|||\")\n",
    "                sent, label = sent.strip(), label.strip()\n",
    "                yield self.text_to_instance([Token(word) for word in sent.split(\" \")], label)"
   ]
  },
  {
   "cell_type": "code",
   "execution_count": 7,
   "metadata": {},
   "outputs": [],
   "source": [
    "class LstmTagger(Model):\n",
    "    def __init__(self, word_embeddings, encoder, vocab):\n",
    "        super().__init__(vocab)\n",
    "        self.word_embeddings = word_embeddings\n",
    "        self.encoder = encoder\n",
    "        self.maxpool = torch.nn.AdaptiveMaxPool1d(1)\n",
    "        self.out = torch.nn.Linear(in_features=encoder.get_output_dim(),\n",
    "                                   out_features=vocab.get_vocab_size(\"labels\"))\n",
    "        self.accuracy = CategoricalAccuracy()\n",
    "        self.criterion = torch.nn.CrossEntropyLoss()\n",
    "        \n",
    "    def forward(self, sentence, label):\n",
    "        mask = get_text_field_mask(sentence)\n",
    "        embeddings = self.word_embeddings(sentence)\n",
    "        encoder_out = self.encoder(embeddings, mask)\n",
    "        encoder_out = encoder_out.transpose(1,2)\n",
    "        out = self.maxpool(encoder_out).transpose(1,2).squeeze() # max pool across time\n",
    "        out = self.out(out)\n",
    "        output = {\"logits\": out}\n",
    "        \n",
    "#         print(\"---- out ----\")\n",
    "#         print(out)\n",
    "        \n",
    "#         print(\"---- label ----\")\n",
    "#         print(label)\n",
    "        if label is not None:\n",
    "            self.accuracy(out, label)\n",
    "            output[\"loss\"] = self.criterion(out, label)\n",
    "        return output\n",
    "    \n",
    "    def get_metrics(self, reset):\n",
    "        return {\"accuracy\": self.accuracy.get_metric(reset)}"
   ]
  },
  {
   "cell_type": "code",
   "execution_count": 8,
   "metadata": {},
   "outputs": [],
   "source": [
    "reader = PosDatasetReader()"
   ]
  },
  {
   "cell_type": "code",
   "execution_count": 9,
   "metadata": {},
   "outputs": [
    {
     "name": "stderr",
     "output_type": "stream",
     "text": [
      "253909it [00:17, 14487.33it/s]\n",
      "643it [00:00, 25154.48it/s]\n",
      "697it [00:00, 17998.64it/s]\n"
     ]
    }
   ],
   "source": [
    "TRAIN = \"topicclass/topicclass_train.txt\"\n",
    "VALID = \"topicclass/topicclass_valid.txt\"\n",
    "TEST = \"topicclass/topicclass_test.txt\"\n",
    "\n",
    "train_dataset = reader.read(cached_path(TRAIN))\n",
    "valid_dataset = reader.read(cached_path(VALID))\n",
    "test_dataset = reader.read(cached_path(TEST))"
   ]
  },
  {
   "cell_type": "code",
   "execution_count": 10,
   "metadata": {},
   "outputs": [
    {
     "data": {
      "text/plain": [
       "{'fields': {'sentence': <allennlp.data.fields.text_field.TextField at 0x1aa3a7e3c8>,\n",
       "  'label': <allennlp.data.fields.label_field.LabelField at 0x1aa3a7eb38>},\n",
       " 'indexed': False}"
      ]
     },
     "execution_count": 10,
     "metadata": {},
     "output_type": "execute_result"
    }
   ],
   "source": [
    "valid_dataset[0].__dict__"
   ]
  },
  {
   "cell_type": "code",
   "execution_count": 11,
   "metadata": {},
   "outputs": [
    {
     "data": {
      "text/plain": [
       "{'label': 'Sports and recreation',\n",
       " '_label_namespace': 'labels',\n",
       " '_label_id': None}"
      ]
     },
     "execution_count": 11,
     "metadata": {},
     "output_type": "execute_result"
    }
   ],
   "source": [
    "valid_dataset[0][\"label\"].__dict__"
   ]
  },
  {
   "cell_type": "code",
   "execution_count": 12,
   "metadata": {},
   "outputs": [
    {
     "data": {
      "text/plain": [
       "{'tokens': [The,\n",
       "  Māori,\n",
       "  players,\n",
       "  initially,\n",
       "  provoked,\n",
       "  curiosity,\n",
       "  due,\n",
       "  to,\n",
       "  their,\n",
       "  race,\n",
       "  ,,\n",
       "  but,\n",
       "  the,\n",
       "  British,\n",
       "  press,\n",
       "  subsequently,\n",
       "  expressed,\n",
       "  some,\n",
       "  surprise,\n",
       "  that,\n",
       "  the,\n",
       "  side,\n",
       "  was,\n",
       "  not,\n",
       "  as,\n",
       "  \",\n",
       "  Māori,\n",
       "  \",\n",
       "  as,\n",
       "  they,\n",
       "  had,\n",
       "  expected,\n",
       "  .],\n",
       " '_token_indexers': {'tokens': <allennlp.data.token_indexers.single_id_token_indexer.SingleIdTokenIndexer at 0x11f066cf8>},\n",
       " '_indexed_tokens': None,\n",
       " '_indexer_name_to_indexed_token': None}"
      ]
     },
     "execution_count": 12,
     "metadata": {},
     "output_type": "execute_result"
    }
   ],
   "source": [
    "valid_dataset[0].fields[\"sentence\"].__dict__"
   ]
  },
  {
   "cell_type": "code",
   "execution_count": 13,
   "metadata": {},
   "outputs": [
    {
     "name": "stderr",
     "output_type": "stream",
     "text": [
      "02/02/2020 10:25:44 - INFO - allennlp.data.vocabulary -   Fitting token dictionary from dataset.\n",
      "100%|██████████| 254552/254552 [00:04<00:00, 55615.87it/s]\n"
     ]
    }
   ],
   "source": [
    "vocab = Vocabulary.from_instances(train_dataset + valid_dataset)"
   ]
  },
  {
   "cell_type": "code",
   "execution_count": 14,
   "metadata": {},
   "outputs": [
    {
     "name": "stderr",
     "output_type": "stream",
     "text": [
      "02/02/2020 10:25:48 - INFO - allennlp.data.vocabulary -   Printed vocabulary statistics are only for the part of the vocabulary generated from instances. If vocabulary is constructed by extending saved vocabulary with dataset instances, the directly loaded portion won't be considered here.\n"
     ]
    },
    {
     "name": "stdout",
     "output_type": "stream",
     "text": [
      "\n",
      "\n",
      "----Vocabulary Statistics----\n",
      "\n",
      "\n",
      "Top 10 most frequent tokens in namespace 'tokens':\n",
      "\tToken: the\t\tFrequency: 379873\n",
      "\tToken: ,\t\tFrequency: 329376\n",
      "\tToken: .\t\tFrequency: 254552\n",
      "\tToken: of\t\tFrequency: 195666\n",
      "\tToken: and\t\tFrequency: 188073\n",
      "\tToken: in\t\tFrequency: 156502\n",
      "\tToken: a\t\tFrequency: 115405\n",
      "\tToken: to\t\tFrequency: 105341\n",
      "\tToken: was\t\tFrequency: 84184\n",
      "\tToken: The\t\tFrequency: 67019\n",
      "\n",
      "Top 10 longest tokens in namespace 'tokens':\n",
      "\tToken: 71828182845904523536028747135266249775724709369995\t\tlength: 50\tFrequency: 1\n",
      "\tToken: GlennBeckRapedAndMurderedAYoungGirlIn1990.com\t\tlength: 45\tFrequency: 1\n",
      "\tToken: Andriantsimitoviaminandriandrazaka\t\tlength: 34\tFrequency: 1\n",
      "\tToken: Southernplayalisticadillacmuzik\t\tlength: 31\tFrequency: 4\n",
      "\tToken: Andriantsimitoviaminiandriana\t\tlength: 29\tFrequency: 5\n",
      "\tToken: Kollektivtransportproduksjon\t\tlength: 28\tFrequency: 5\n",
      "\tToken: 113423713055421844361000443\t\tlength: 27\tFrequency: 1\n",
      "\tToken: Landesversicherungsanstalt\t\tlength: 26\tFrequency: 2\n",
      "\tToken: Rabodoandrianampoinimerina\t\tlength: 26\tFrequency: 1\n",
      "\tToken: chlorobenzalmalononitrile\t\tlength: 25\tFrequency: 2\n",
      "\n",
      "Top 10 shortest tokens in namespace 'tokens':\n",
      "\tToken: \t\tlength: 0\tFrequency: 10\n",
      "\tToken: ﻿\t\tlength: 1\tFrequency: 1\n",
      "\tToken: ρ\t\tlength: 1\tFrequency: 1\n",
      "\tToken: ･\t\tlength: 1\tFrequency: 1\n",
      "\tToken: ®\t\tlength: 1\tFrequency: 1\n",
      "\tToken: ʔ\t\tlength: 1\tFrequency: 1\n",
      "\tToken: ̆\t\tlength: 1\tFrequency: 1\n",
      "\tToken: ア\t\tlength: 1\tFrequency: 1\n",
      "\tToken: द\t\tlength: 1\tFrequency: 1\n",
      "\tToken: و\t\tlength: 1\tFrequency: 1\n",
      "\n",
      "Top 10 most frequent tokens in namespace 'labels':\n",
      "\tToken: Music\t\tFrequency: 33828\n",
      "\tToken: Sports and recreation\t\tFrequency: 31334\n",
      "\tToken: Natural sciences\t\tFrequency: 29749\n",
      "\tToken: Warfare\t\tFrequency: 26217\n",
      "\tToken: Media and drama\t\tFrequency: 25506\n",
      "\tToken: Social sciences and society\t\tFrequency: 20518\n",
      "\tToken: History\t\tFrequency: 18470\n",
      "\tToken: Engineering and technology\t\tFrequency: 18407\n",
      "\tToken: Geography and places\t\tFrequency: 12302\n",
      "\tToken: Video games\t\tFrequency: 11863\n",
      "\n",
      "Top 10 longest tokens in namespace 'labels':\n",
      "\tToken: Social sciences and society\t\tlength: 27\tFrequency: 20518\n",
      "\tToken: Agriculture, food and drink\t\tlength: 27\tFrequency: 1759\n",
      "\tToken: Engineering and technology\t\tlength: 26\tFrequency: 18407\n",
      "\tToken: Language and literature\t\tlength: 23\tFrequency: 7448\n",
      "\tToken: Philosophy and religion\t\tlength: 23\tFrequency: 5309\n",
      "\tToken: Sports and recreation\t\tlength: 21\tFrequency: 31334\n",
      "\tToken: Geography and places\t\tlength: 20\tFrequency: 12302\n",
      "\tToken: Art and architecture\t\tlength: 20\tFrequency: 10238\n",
      "\tToken: Natural sciences\t\tlength: 16\tFrequency: 29749\n",
      "\tToken: Media and darama\t\tlength: 16\tFrequency: 11\n",
      "\n",
      "Top 10 shortest tokens in namespace 'labels':\n",
      "\tToken: Music\t\tlength: 5\tFrequency: 33828\n",
      "\tToken: History\t\tlength: 7\tFrequency: 18470\n",
      "\tToken: Warfare\t\tlength: 7\tFrequency: 26217\n",
      "\tToken: Mathematics\t\tlength: 11\tFrequency: 679\n",
      "\tToken: Video games\t\tlength: 11\tFrequency: 11863\n",
      "\tToken: Miscellaneous\t\tlength: 13\tFrequency: 914\n",
      "\tToken: Media and drama\t\tlength: 15\tFrequency: 25506\n",
      "\tToken: Media and darama\t\tlength: 16\tFrequency: 11\n",
      "\tToken: Natural sciences\t\tlength: 16\tFrequency: 29749\n",
      "\tToken: Art and architecture\t\tlength: 20\tFrequency: 10238\n"
     ]
    }
   ],
   "source": [
    "vocab.print_statistics()"
   ]
  },
  {
   "cell_type": "code",
   "execution_count": 15,
   "metadata": {},
   "outputs": [],
   "source": [
    "EMBED_DIM = 300\n",
    "HIDDEN_DIM = 300\n",
    "\n",
    "token_embedding = Embedding(num_embeddings=vocab.get_vocab_size(\"tokens\"),\n",
    "                            embedding_dim=EMBED_DIM)\n",
    "word_embeddings = BasicTextFieldEmbedder({\"tokens\": token_embedding})"
   ]
  },
  {
   "cell_type": "code",
   "execution_count": 16,
   "metadata": {},
   "outputs": [],
   "source": [
    "lstm = PytorchSeq2SeqWrapper(torch.nn.LSTM(EMBED_DIM, HIDDEN_DIM, batch_first=True))\n",
    "model = LstmTagger(word_embeddings, lstm, vocab)"
   ]
  },
  {
   "cell_type": "code",
   "execution_count": 17,
   "metadata": {},
   "outputs": [],
   "source": [
    "if torch.cuda.is_available():\n",
    "    cuda_device = 0\n",
    "    model = model.cuda(cuda_device)\n",
    "else:\n",
    "    cuda_device = -1\n",
    "optimizer = optim.Adam(model.parameters())\n",
    "iterator = BucketIterator(batch_size=16, sorting_keys=[(\"sentence\", \"num_tokens\")])\n",
    "iterator.index_with(vocab)"
   ]
  },
  {
   "cell_type": "code",
   "execution_count": 18,
   "metadata": {},
   "outputs": [
    {
     "name": "stderr",
     "output_type": "stream",
     "text": [
      "02/02/2020 10:25:49 - INFO - allennlp.training.trainer -   Beginning training.\n",
      "02/02/2020 10:25:49 - INFO - allennlp.training.trainer -   Epoch 0/8\n",
      "02/02/2020 10:25:49 - INFO - allennlp.training.trainer -   Peak CPU memory usage MB: 2547.073024\n",
      "02/02/2020 10:25:49 - INFO - allennlp.training.trainer -   Training\n",
      "accuracy: 0.1120, loss: 2.5567 ||: 100%|██████████| 41/41 [00:19<00:00,  2.22it/s]\n",
      "02/02/2020 10:26:09 - INFO - allennlp.training.trainer -   Validating\n",
      "accuracy: 0.1291, loss: 2.4158 ||: 100%|██████████| 41/41 [00:00<00:00, 67.78it/s]\n",
      "02/02/2020 10:26:09 - INFO - allennlp.training.trainer -                     Training |  Validation\n",
      "02/02/2020 10:26:09 - INFO - allennlp.training.trainer -   cpu_memory_MB |  2547.073  |       N/A\n",
      "02/02/2020 10:26:09 - INFO - allennlp.training.trainer -   accuracy      |     0.112  |     0.129\n",
      "02/02/2020 10:26:09 - INFO - allennlp.training.trainer -   loss          |     2.557  |     2.416\n",
      "02/02/2020 10:26:09 - INFO - allennlp.training.trainer -   Epoch duration: 00:00:20\n",
      "02/02/2020 10:26:09 - INFO - allennlp.training.trainer -   Estimated training time remaining: 0:02:43\n",
      "02/02/2020 10:26:09 - INFO - allennlp.training.trainer -   Epoch 1/8\n",
      "02/02/2020 10:26:09 - INFO - allennlp.training.trainer -   Peak CPU memory usage MB: 2706.026496\n",
      "02/02/2020 10:26:09 - INFO - allennlp.training.trainer -   Training\n",
      "accuracy: 0.1477, loss: 2.4168 ||: 100%|██████████| 41/41 [00:19<00:00,  2.27it/s]\n",
      "02/02/2020 10:26:29 - INFO - allennlp.training.trainer -   Validating\n",
      "accuracy: 0.1337, loss: 2.3919 ||: 100%|██████████| 41/41 [00:00<00:00, 64.69it/s]\n",
      "02/02/2020 10:26:29 - INFO - allennlp.training.trainer -                     Training |  Validation\n",
      "02/02/2020 10:26:29 - INFO - allennlp.training.trainer -   cpu_memory_MB |  2706.026  |       N/A\n",
      "02/02/2020 10:26:29 - INFO - allennlp.training.trainer -   accuracy      |     0.148  |     0.134\n",
      "02/02/2020 10:26:29 - INFO - allennlp.training.trainer -   loss          |     2.417  |     2.392\n",
      "02/02/2020 10:26:29 - INFO - allennlp.training.trainer -   Epoch duration: 00:00:19\n",
      "02/02/2020 10:26:29 - INFO - allennlp.training.trainer -   Estimated training time remaining: 0:02:20\n",
      "02/02/2020 10:26:29 - INFO - allennlp.training.trainer -   Epoch 2/8\n",
      "02/02/2020 10:26:29 - INFO - allennlp.training.trainer -   Peak CPU memory usage MB: 2706.026496\n",
      "02/02/2020 10:26:29 - INFO - allennlp.training.trainer -   Training\n",
      "accuracy: 0.1804, loss: 2.3532 ||: 100%|██████████| 41/41 [00:21<00:00,  2.06it/s]\n",
      "02/02/2020 10:26:51 - INFO - allennlp.training.trainer -   Validating\n",
      "accuracy: 0.2675, loss: 2.1105 ||: 100%|██████████| 41/41 [00:00<00:00, 33.49it/s]\n",
      "02/02/2020 10:26:52 - INFO - allennlp.training.trainer -                     Training |  Validation\n",
      "02/02/2020 10:26:52 - INFO - allennlp.training.trainer -   cpu_memory_MB |  2706.026  |       N/A\n",
      "02/02/2020 10:26:52 - INFO - allennlp.training.trainer -   accuracy      |     0.180  |     0.267\n",
      "02/02/2020 10:26:52 - INFO - allennlp.training.trainer -   loss          |     2.353  |     2.111\n",
      "02/02/2020 10:26:52 - INFO - allennlp.training.trainer -   Epoch duration: 00:00:22\n",
      "02/02/2020 10:26:52 - INFO - allennlp.training.trainer -   Estimated training time remaining: 0:02:05\n",
      "02/02/2020 10:26:52 - INFO - allennlp.training.trainer -   Epoch 3/8\n",
      "02/02/2020 10:26:52 - INFO - allennlp.training.trainer -   Peak CPU memory usage MB: 2706.026496\n",
      "02/02/2020 10:26:52 - INFO - allennlp.training.trainer -   Training\n",
      "accuracy: 0.4308, loss: 1.8300 ||: 100%|██████████| 41/41 [00:20<00:00,  2.07it/s]\n",
      "02/02/2020 10:27:13 - INFO - allennlp.training.trainer -   Validating\n",
      "accuracy: 0.6547, loss: 1.3246 ||: 100%|██████████| 41/41 [00:00<00:00, 60.66it/s]\n",
      "02/02/2020 10:27:13 - INFO - allennlp.training.trainer -                     Training |  Validation\n",
      "02/02/2020 10:27:13 - INFO - allennlp.training.trainer -   cpu_memory_MB |  2706.026  |       N/A\n",
      "02/02/2020 10:27:13 - INFO - allennlp.training.trainer -   accuracy      |     0.431  |     0.655\n",
      "02/02/2020 10:27:13 - INFO - allennlp.training.trainer -   loss          |     1.830  |     1.325\n",
      "02/02/2020 10:27:13 - INFO - allennlp.training.trainer -   Epoch duration: 00:00:21\n",
      "02/02/2020 10:27:13 - INFO - allennlp.training.trainer -   Estimated training time remaining: 0:01:45\n",
      "02/02/2020 10:27:13 - INFO - allennlp.training.trainer -   Epoch 4/8\n",
      "02/02/2020 10:27:13 - INFO - allennlp.training.trainer -   Peak CPU memory usage MB: 2706.026496\n",
      "02/02/2020 10:27:13 - INFO - allennlp.training.trainer -   Training\n",
      "accuracy: 0.6827, loss: 1.0991 ||: 100%|██████████| 41/41 [00:21<00:00,  1.92it/s]\n",
      "02/02/2020 10:27:35 - INFO - allennlp.training.trainer -   Validating\n",
      "accuracy: 0.7994, loss: 0.7584 ||: 100%|██████████| 41/41 [00:00<00:00, 42.99it/s]\n",
      "02/02/2020 10:27:36 - INFO - allennlp.training.trainer -                     Training |  Validation\n",
      "02/02/2020 10:27:36 - INFO - allennlp.training.trainer -   cpu_memory_MB |  2706.026  |       N/A\n",
      "02/02/2020 10:27:36 - INFO - allennlp.training.trainer -   accuracy      |     0.683  |     0.799\n",
      "02/02/2020 10:27:36 - INFO - allennlp.training.trainer -   loss          |     1.099  |     0.758\n",
      "02/02/2020 10:27:36 - INFO - allennlp.training.trainer -   Epoch duration: 00:00:22\n",
      "02/02/2020 10:27:36 - INFO - allennlp.training.trainer -   Estimated training time remaining: 0:01:25\n",
      "02/02/2020 10:27:36 - INFO - allennlp.training.trainer -   Epoch 5/8\n",
      "02/02/2020 10:27:36 - INFO - allennlp.training.trainer -   Peak CPU memory usage MB: 2706.026496\n",
      "02/02/2020 10:27:36 - INFO - allennlp.training.trainer -   Training\n",
      "accuracy: 0.8367, loss: 0.5792 ||: 100%|██████████| 41/41 [00:20<00:00,  2.06it/s]\n",
      "02/02/2020 10:27:56 - INFO - allennlp.training.trainer -   Validating\n",
      "accuracy: 0.9129, loss: 0.3995 ||: 100%|██████████| 41/41 [00:00<00:00, 50.79it/s]\n",
      "02/02/2020 10:27:57 - INFO - allennlp.training.trainer -                     Training |  Validation\n",
      "02/02/2020 10:27:57 - INFO - allennlp.training.trainer -   cpu_memory_MB |  2706.026  |       N/A\n",
      "02/02/2020 10:27:57 - INFO - allennlp.training.trainer -   accuracy      |     0.837  |     0.913\n",
      "02/02/2020 10:27:57 - INFO - allennlp.training.trainer -   loss          |     0.579  |     0.399\n",
      "02/02/2020 10:27:57 - INFO - allennlp.training.trainer -   Epoch duration: 00:00:20\n",
      "02/02/2020 10:27:57 - INFO - allennlp.training.trainer -   Estimated training time remaining: 0:01:03\n",
      "02/02/2020 10:27:57 - INFO - allennlp.training.trainer -   Epoch 6/8\n",
      "02/02/2020 10:27:57 - INFO - allennlp.training.trainer -   Peak CPU memory usage MB: 2706.026496\n",
      "02/02/2020 10:27:57 - INFO - allennlp.training.trainer -   Training\n",
      "accuracy: 0.9191, loss: 0.3403 ||: 100%|██████████| 41/41 [00:21<00:00,  1.95it/s]\n",
      "02/02/2020 10:28:18 - INFO - allennlp.training.trainer -   Validating\n",
      "accuracy: 0.9487, loss: 0.2288 ||: 100%|██████████| 41/41 [00:00<00:00, 63.24it/s]\n",
      "02/02/2020 10:28:19 - INFO - allennlp.training.trainer -                     Training |  Validation\n",
      "02/02/2020 10:28:19 - INFO - allennlp.training.trainer -   cpu_memory_MB |  2706.026  |       N/A\n",
      "02/02/2020 10:28:19 - INFO - allennlp.training.trainer -   accuracy      |     0.919  |     0.949\n",
      "02/02/2020 10:28:19 - INFO - allennlp.training.trainer -   loss          |     0.340  |     0.229\n",
      "02/02/2020 10:28:19 - INFO - allennlp.training.trainer -   Epoch duration: 00:00:21\n",
      "02/02/2020 10:28:19 - INFO - allennlp.training.trainer -   Estimated training time remaining: 0:00:42\n",
      "02/02/2020 10:28:19 - INFO - allennlp.training.trainer -   Epoch 7/8\n",
      "02/02/2020 10:28:19 - INFO - allennlp.training.trainer -   Peak CPU memory usage MB: 2706.026496\n",
      "02/02/2020 10:28:19 - INFO - allennlp.training.trainer -   Training\n",
      "accuracy: 0.9440, loss: 0.2093 ||: 100%|██████████| 41/41 [00:20<00:00,  2.16it/s]\n",
      "02/02/2020 10:28:40 - INFO - allennlp.training.trainer -   Validating\n",
      "accuracy: 0.9658, loss: 0.1742 ||: 100%|██████████| 41/41 [00:00<00:00, 54.16it/s]\n",
      "02/02/2020 10:28:40 - INFO - allennlp.training.trainer -                     Training |  Validation\n",
      "02/02/2020 10:28:40 - INFO - allennlp.training.trainer -   cpu_memory_MB |  2706.026  |       N/A\n",
      "02/02/2020 10:28:40 - INFO - allennlp.training.trainer -   accuracy      |     0.944  |     0.966\n",
      "02/02/2020 10:28:40 - INFO - allennlp.training.trainer -   loss          |     0.209  |     0.174\n",
      "02/02/2020 10:28:40 - INFO - allennlp.training.trainer -   Epoch duration: 00:00:21\n",
      "02/02/2020 10:28:40 - INFO - allennlp.training.trainer -   Estimated training time remaining: 0:00:21\n",
      "02/02/2020 10:28:40 - INFO - allennlp.training.trainer -   Epoch 8/8\n",
      "02/02/2020 10:28:40 - INFO - allennlp.training.trainer -   Peak CPU memory usage MB: 2706.026496\n",
      "02/02/2020 10:28:40 - INFO - allennlp.training.trainer -   Training\n",
      "accuracy: 0.9705, loss: 0.1449 ||: 100%|██████████| 41/41 [00:20<00:00,  2.21it/s]\n",
      "02/02/2020 10:29:01 - INFO - allennlp.training.trainer -   Validating\n",
      "accuracy: 0.9798, loss: 0.0892 ||: 100%|██████████| 41/41 [00:00<00:00, 44.22it/s]\n",
      "02/02/2020 10:29:02 - INFO - allennlp.training.trainer -                     Training |  Validation\n",
      "02/02/2020 10:29:02 - INFO - allennlp.training.trainer -   cpu_memory_MB |  2706.026  |       N/A\n",
      "02/02/2020 10:29:02 - INFO - allennlp.training.trainer -   accuracy      |     0.970  |     0.980\n",
      "02/02/2020 10:29:02 - INFO - allennlp.training.trainer -   loss          |     0.145  |     0.089\n",
      "02/02/2020 10:29:02 - INFO - allennlp.training.trainer -   Epoch duration: 00:00:21\n"
     ]
    },
    {
     "data": {
      "text/plain": [
       "{'peak_cpu_memory_MB': 2706.026496,\n",
       " 'training_duration': '00:03:12',\n",
       " 'training_start_epoch': 0,\n",
       " 'training_epochs': 8,\n",
       " 'epoch': 8,\n",
       " 'training_accuracy': 0.9704510108864697,\n",
       " 'training_loss': 0.14491085235665485,\n",
       " 'training_cpu_memory_MB': 2706.026496,\n",
       " 'validation_accuracy': 0.9797822706065319,\n",
       " 'validation_loss': 0.08918036529567183,\n",
       " 'best_epoch': 8,\n",
       " 'best_validation_accuracy': 0.9797822706065319,\n",
       " 'best_validation_loss': 0.08918036529567183}"
      ]
     },
     "execution_count": 18,
     "metadata": {},
     "output_type": "execute_result"
    }
   ],
   "source": [
    "trainer = Trainer(model=model,\n",
    "                  optimizer=optimizer,\n",
    "                  iterator=iterator,\n",
    "                  train_dataset=valid_dataset,\n",
    "                  validation_dataset=valid_dataset,\n",
    "                  patience=5,\n",
    "                  num_epochs=9,\n",
    "                  cuda_device=cuda_device)\n",
    "trainer.train()"
   ]
  },
  {
   "cell_type": "code",
   "execution_count": 19,
   "metadata": {},
   "outputs": [
    {
     "data": {
      "text/plain": [
       "17"
      ]
     },
     "execution_count": 19,
     "metadata": {},
     "output_type": "execute_result"
    }
   ],
   "source": [
    "vocab.get_vocab_size(\"labels\")"
   ]
  },
  {
   "cell_type": "code",
   "execution_count": null,
   "metadata": {},
   "outputs": [],
   "source": []
  }
 ],
 "metadata": {
  "kernelspec": {
   "display_name": "Python 3",
   "language": "python",
   "name": "python3"
  },
  "language_info": {
   "codemirror_mode": {
    "name": "ipython",
    "version": 3
   },
   "file_extension": ".py",
   "mimetype": "text/x-python",
   "name": "python",
   "nbconvert_exporter": "python",
   "pygments_lexer": "ipython3",
   "version": "3.6.7"
  }
 },
 "nbformat": 4,
 "nbformat_minor": 4
}
